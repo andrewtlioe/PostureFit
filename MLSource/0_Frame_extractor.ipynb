{
 "cells": [
  {
   "cell_type": "code",
   "execution_count": null,
   "id": "fb36e147",
   "metadata": {},
   "outputs": [],
   "source": [
    "# insert path containing containing video files\n",
    "dir_path = '/Users/tinmanee/Downloads/vid'"
   ]
  },
  {
   "cell_type": "code",
   "execution_count": 11,
   "id": "75c7fe8b",
   "metadata": {},
   "outputs": [
    {
     "name": "stderr",
     "output_type": "stream",
     "text": [
      "5it [05:13, 62.69s/it]\n"
     ]
    }
   ],
   "source": [
    "import cv2\n",
    "import os\n",
    "from tqdm import tqdm\n",
    "import re\n",
    "\n",
    "video = [entry for entry in os.listdir(dir_path) if os.path.isfile(os.path.join(dir_path, entry))]\n",
    "try:\n",
    "    video.remove('.DS_Store')\n",
    "except:\n",
    "    pass\n",
    "\n",
    "# find number\n",
    "vid_nos = []\n",
    "for i in video:\n",
    "    vid_nos.append(int(re.findall(r'\\d+', i)[0]))\n",
    "\n",
    "for i, vid_no in tqdm(enumerate(vid_nos)):\n",
    "    #read video from specified path\n",
    "    video_file = cv2.VideoCapture(os.path.join(dir_path, video[i]))\n",
    "    \n",
    "    try:\n",
    "        #creating a folder named vid_(vid_no)_extracted\n",
    "        if not os.path.exists('vid_'+str(vid_no)+'_extracted'):\n",
    "            os.makedirs('vid_'+str(vid_no)+'_extracted')\n",
    "\n",
    "    #if not created then raise error\n",
    "    except OSError:\n",
    "        print ('Error: Creating directory of data')\n",
    "\n",
    "    #frame no.\n",
    "    currentframe = 0\n",
    "    \n",
    "    while(True):\n",
    "        #reading from frame\n",
    "        ret, frame = video_file.read()\n",
    "\n",
    "        if ret:\n",
    "            \n",
    "            #if video is still left continue creating images\n",
    "            output_filename = './vid_'+str(vid_no)+'_extracted/vid_'+str(vid_no)+'frame' + str(currentframe) + '.jpg'\n",
    "            \n",
    "            #rotate frame because output frames are upside down; possibly due to iPhone .mov format\n",
    "            #frame = cv2.rotate(frame, cv2.ROTATE_180)\n",
    "            \n",
    "            # writing the extracted images\n",
    "            cv2.imwrite(output_filename, frame)\n",
    "\n",
    "            #increasing counter so that it will\n",
    "            #show how many frames are created\n",
    "            currentframe += 1\n",
    "        else:\n",
    "            break\n",
    "\n",
    "    #release all space and windows once done\n",
    "    video_file.release()\n",
    "    cv2.destroyAllWindows()"
   ]
  }
 ],
 "metadata": {
  "kernelspec": {
   "display_name": "Python 3 (ipykernel)",
   "language": "python",
   "name": "python3"
  },
  "language_info": {
   "codemirror_mode": {
    "name": "ipython",
    "version": 3
   },
   "file_extension": ".py",
   "mimetype": "text/x-python",
   "name": "python",
   "nbconvert_exporter": "python",
   "pygments_lexer": "ipython3",
   "version": "3.10.8"
  }
 },
 "nbformat": 4,
 "nbformat_minor": 5
}
