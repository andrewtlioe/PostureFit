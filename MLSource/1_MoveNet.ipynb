{
 "cells": [
  {
   "cell_type": "code",
   "execution_count": 1,
   "id": "72b3dd35",
   "metadata": {},
   "outputs": [],
   "source": [
    "# insert path containing folders of extracted image\n",
    "dir_path = '/Users/tinmanee/Downloads/'"
   ]
  },
  {
   "cell_type": "code",
   "execution_count": 2,
   "id": "a674baa0",
   "metadata": {},
   "outputs": [],
   "source": [
    "import tensorflow as tf\n",
    "import tensorflow_hub as hub\n",
    "import os\n",
    "import re\n",
    "import pandas as pd\n",
    "from tqdm import tqdm"
   ]
  },
  {
   "cell_type": "code",
   "execution_count": 3,
   "id": "9fbfc8da",
   "metadata": {},
   "outputs": [
    {
     "name": "stdout",
     "output_type": "stream",
     "text": [
      "Metal device set to: Apple M1\n"
     ]
    },
    {
     "name": "stderr",
     "output_type": "stream",
     "text": [
      "2023-03-09 16:42:19.823256: I tensorflow/core/common_runtime/pluggable_device/pluggable_device_factory.cc:306] Could not identify NUMA node of platform GPU ID 0, defaulting to 0. Your kernel may not have been built with NUMA support.\n",
      "2023-03-09 16:42:19.823389: I tensorflow/core/common_runtime/pluggable_device/pluggable_device_factory.cc:272] Created TensorFlow device (/job:localhost/replica:0/task:0/device:GPU:0 with 0 MB memory) -> physical PluggableDevice (device: 0, name: METAL, pci bus id: <undefined>)\n"
     ]
    }
   ],
   "source": [
    "# Load Model from TF hub\n",
    "module = hub.load(\"https://tfhub.dev/google/movenet/singlepose/lightning/4\")\n",
    "input_size = 192\n",
    "def movenet(input_image):\n",
    "  model = module.signatures['serving_default']\n",
    "\n",
    "  # SavedModel format expects tensor type of int32.\n",
    "  input_image = tf.cast(input_image, dtype=tf.int32)\n",
    "  # Run model inference.\n",
    "  outputs = model(input_image)\n",
    "  # Output is a [1, 1, 17, 3] tensor.\n",
    "  keypoints_with_scores = outputs['output_0'].numpy()\n",
    "  return keypoints_with_scores"
   ]
  },
  {
   "cell_type": "code",
   "execution_count": 4,
   "id": "568e50d9",
   "metadata": {},
   "outputs": [],
   "source": [
    "# Dictionary that maps from joint names to keypoint indices.\n",
    "KEYPOINT_DICT = {\n",
    "    'nose': 0,\n",
    "    'left_eye': 1,\n",
    "    'right_eye': 2,\n",
    "    'left_ear': 3,\n",
    "    'right_ear': 4,\n",
    "    'left_shoulder': 5,\n",
    "    'right_shoulder': 6,\n",
    "    'left_elbow': 7,\n",
    "    'right_elbow': 8,\n",
    "    'left_wrist': 9,\n",
    "    'right_wrist': 10,\n",
    "    'left_hip': 11,\n",
    "    'right_hip': 12,\n",
    "    'left_knee': 13,\n",
    "    'right_knee': 14,\n",
    "    'left_ankle': 15,\n",
    "    'right_ankle': 16\n",
    "}"
   ]
  },
  {
   "cell_type": "code",
   "execution_count": 5,
   "id": "279e0deb",
   "metadata": {},
   "outputs": [
    {
     "name": "stdout",
     "output_type": "stream",
     "text": [
      "['vid_75_extracted', 'vid_234_extracted', 'vid_6_extracted', 'vid_72_extracted', 'vid_49_extracted']\n"
     ]
    }
   ],
   "source": [
    "# Get all folders\n",
    "folders = [entry for entry in os.listdir(dir_path) if os.path.isdir(os.path.join(dir_path, entry))]\n",
    "folders = [folder for folder in folders if folder.startswith(\"vid_\")]\n",
    "\n",
    "# find number\n",
    "vid_nos = []\n",
    "for i in folders:\n",
    "    vid_nos.append(int(re.findall(r'\\d+', i)[0]))\n",
    "\n",
    "print(folders)"
   ]
  },
  {
   "cell_type": "code",
   "execution_count": 6,
   "id": "ae17e3c3",
   "metadata": {},
   "outputs": [
    {
     "name": "stderr",
     "output_type": "stream",
     "text": [
      "  0%|                                                  | 0/2365 [00:00<?, ?it/s]2023-03-09 16:42:38.128583: W tensorflow/tsl/platform/profile_utils/cpu_utils.cc:128] Failed to get CPU frequency: 0 Hz\n",
      "2023-03-09 16:42:38.136826: I tensorflow/core/grappler/optimizers/custom_graph_optimizer_registry.cc:114] Plugin optimizer for device_type GPU is enabled.\n",
      "100%|███████████████████████████████████████| 2365/2365 [01:47<00:00, 22.03it/s]\n",
      "100%|███████████████████████████████████████| 1545/1545 [01:09<00:00, 22.07it/s]\n",
      "100%|███████████████████████████████████████| 2229/2229 [01:41<00:00, 21.96it/s]\n",
      "100%|███████████████████████████████████████| 2510/2510 [01:52<00:00, 22.35it/s]\n",
      "100%|███████████████████████████████████████| 2898/2898 [02:10<00:00, 22.15it/s]\n"
     ]
    }
   ],
   "source": [
    "# Load the input image.\n",
    "for i in folders:\n",
    "    imagefolder_path = os.path.join(dir_path, i)\n",
    "    data = []\n",
    "    for frame_no in tqdm(range(len([entry for entry in os.listdir(imagefolder_path) if os.path.isfile(os.path.join(imagefolder_path, entry))]))):\n",
    "        image_path = imagefolder_path+'/vid_'+re.findall(r'\\d+', i)[0]+'frame'+str(frame_no)+\".jpg\"\n",
    "        image = tf.io.read_file(image_path)\n",
    "        image = tf.image.decode_jpeg(image)\n",
    "        # Resize and pad the image to keep the aspect ratio and fit the expected size.\n",
    "        input_image = tf.expand_dims(image, axis=0)\n",
    "        input_image = tf.image.resize_with_pad(input_image, input_size, input_size)\n",
    "\n",
    "        # Run model inference.\n",
    "        keypoints_with_scores = movenet(input_image)\n",
    "        px = pd.DataFrame(keypoints_with_scores[0][0]).astype(\"float\")\n",
    "        px_flatten = px.to_numpy().flatten()\n",
    "        data.append(px_flatten)\n",
    "    df = pd.DataFrame(data, columns=['x0', 'y0', 'c0', 'x1', 'y1', 'c1', 'x2', 'y2', 'c2', \n",
    "                                    'x3', 'y3', 'c3', 'x4', 'y4', 'c4', 'x5', 'y5', 'c5', \n",
    "                                    'x6', 'y6', 'c6', 'x7', 'y7', 'c7', 'x8', 'y8', 'c8',\n",
    "                                    'x9', 'y9', 'c9', 'x10', 'y10', 'c10', 'x11', 'y11', 'c11',\n",
    "                                    'x12', 'y12', 'c12', 'x13', 'y13', 'c13', 'x14', 'y14', 'c14',\n",
    "                                    'x15', 'y15', 'c15', 'x16', 'y16', 'c16'])\n",
    "    df.to_csv(imagefolder_path+'/out.csv')"
   ]
  }
 ],
 "metadata": {
  "kernelspec": {
   "display_name": "Python 3.10 (tensorflow)",
   "language": "python",
   "name": "tensorflow"
  },
  "language_info": {
   "codemirror_mode": {
    "name": "ipython",
    "version": 3
   },
   "file_extension": ".py",
   "mimetype": "text/x-python",
   "name": "python",
   "nbconvert_exporter": "python",
   "pygments_lexer": "ipython3",
   "version": "3.10.8"
  }
 },
 "nbformat": 4,
 "nbformat_minor": 5
}
